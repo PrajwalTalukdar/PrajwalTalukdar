{
  "nbformat": 4,
  "nbformat_minor": 0,
  "metadata": {
    "colab": {
      "provenance": [],
      "authorship_tag": "ABX9TyMAXMv+s+8XifCp8lNOVRvz",
      "include_colab_link": true
    },
    "kernelspec": {
      "name": "python3",
      "display_name": "Python 3"
    },
    "language_info": {
      "name": "python"
    }
  },
  "cells": [
    {
      "cell_type": "markdown",
      "metadata": {
        "id": "view-in-github",
        "colab_type": "text"
      },
      "source": [
        "<a href=\"https://colab.research.google.com/github/PrajwalTalukdar/PrajwalTalukdar/blob/main/Automation1_Web_scraper.ipynb\" target=\"_parent\"><img src=\"https://colab.research.google.com/assets/colab-badge.svg\" alt=\"Open In Colab\"/></a>"
      ]
    },
    {
      "cell_type": "code",
      "execution_count": 1,
      "metadata": {
        "colab": {
          "base_uri": "https://localhost:8080/"
        },
        "id": "hhgMBnInPf43",
        "outputId": "280d18c4-0a42-405e-b89e-52ca19b94ab8"
      },
      "outputs": [
        {
          "output_type": "stream",
          "name": "stdout",
          "text": [
            "Requirement already satisfied: requests in /usr/local/lib/python3.10/dist-packages (2.32.3)\n",
            "Requirement already satisfied: beautifulsoup4 in /usr/local/lib/python3.10/dist-packages (4.12.3)\n",
            "Requirement already satisfied: charset-normalizer<4,>=2 in /usr/local/lib/python3.10/dist-packages (from requests) (3.3.2)\n",
            "Requirement already satisfied: idna<4,>=2.5 in /usr/local/lib/python3.10/dist-packages (from requests) (3.10)\n",
            "Requirement already satisfied: urllib3<3,>=1.21.1 in /usr/local/lib/python3.10/dist-packages (from requests) (2.2.3)\n",
            "Requirement already satisfied: certifi>=2017.4.17 in /usr/local/lib/python3.10/dist-packages (from requests) (2024.8.30)\n",
            "Requirement already satisfied: soupsieve>1.2 in /usr/local/lib/python3.10/dist-packages (from beautifulsoup4) (2.6)\n"
          ]
        }
      ],
      "source": [
        "pip install requests beautifulsoup4"
      ]
    },
    {
      "cell_type": "code",
      "source": [
        "import requests\n",
        "from bs4 import BeautifulSoup"
      ],
      "metadata": {
        "id": "2gOyBq73PteL"
      },
      "execution_count": 13,
      "outputs": []
    },
    {
      "cell_type": "code",
      "source": [
        "url = \"https://www.linkedin.com/feed/\"\n",
        "response = requests.get(url)\n",
        "if response.status_code == 200:\n",
        "    html_content = response.content\n",
        "else:\n",
        "    print(\"Failed to retrieve the webpage.\")\n",
        "    exit()"
      ],
      "metadata": {
        "id": "wbkyxrjLP4wU"
      },
      "execution_count": 16,
      "outputs": []
    },
    {
      "cell_type": "code",
      "source": [
        "soup = BeautifulSoup(html_content, \"html.parser\")"
      ],
      "metadata": {
        "id": "PBZerSluQMPj"
      },
      "execution_count": 4,
      "outputs": []
    },
    {
      "cell_type": "code",
      "source": [
        "title = soup.find('title').text\n",
        "print(\"Page Title:\", title)"
      ],
      "metadata": {
        "colab": {
          "base_uri": "https://localhost:8080/"
        },
        "id": "uc4ZCcSuQROD",
        "outputId": "8d051c70-a139-43b9-fa75-6972325f4f9e"
      },
      "execution_count": 15,
      "outputs": [
        {
          "output_type": "stream",
          "name": "stdout",
          "text": [
            "Page Title: \n",
            "            \n",
            "          LinkedIn Login, Sign in | LinkedIn\n",
            "      \n",
            "        \n"
          ]
        }
      ]
    },
    {
      "cell_type": "code",
      "source": [
        "paragraphs = soup.find_all('p')\n",
        "for p in paragraphs:\n",
        "    print(p.text)"
      ],
      "metadata": {
        "colab": {
          "base_uri": "https://localhost:8080/"
        },
        "collapsed": true,
        "id": "JkSBCp9tQWrn",
        "outputId": "89f76aa2-9651-4c8c-eafd-27684c564a86"
      },
      "execution_count": 12,
      "outputs": [
        {
          "output_type": "stream",
          "name": "stdout",
          "text": [
            "\n",
            "              Stay updated on your professional world.\n",
            "          \n",
            "\n",
            "          By clicking Continue, you agree to LinkedIn’s User Agreement, Privacy Policy, and Cookie Policy.\n",
            "        \n",
            "Click on the link to sign in instantly to your LinkedIn account.\n",
            "If you don’t see the email in your inbox, check your spam folder.\n",
            "\n",
            "              Agree & Join LinkedIn\n",
            "            \n",
            "\n",
            "              By clicking Continue, you agree to LinkedIn’s User Agreement, Privacy Policy, and Cookie Policy.\n",
            "            \n",
            "\n",
            "\n",
            "\n",
            "\n",
            "\n",
            "\n",
            "\n",
            "\n",
            "\n",
            "\n",
            "\n",
            "\n",
            "\n",
            "\n",
            "\n",
            "\n",
            "\n",
            "\n",
            "\n",
            "\n",
            "\n",
            "\n",
            "\n",
            "\n",
            "\n",
            "\n",
            "\n",
            "\n",
            "\n",
            "\n",
            "\n",
            "\n",
            "\n",
            "\n",
            "\n",
            "\n",
            "\n",
            "\n",
            "\n",
            "\n",
            "\n",
            "\n",
            "\n",
            "                LinkedIn\n",
            "              \n",
            "              © 2024\n",
            "            \n",
            "\n"
          ]
        }
      ]
    },
    {
      "cell_type": "code",
      "source": [
        "links = soup.select('a[href]')\n",
        "for link in links:\n",
        "    print(link['href'], link.text)"
      ],
      "metadata": {
        "colab": {
          "base_uri": "https://localhost:8080/"
        },
        "id": "gr3mbsobQgst",
        "outputId": "2558d185-aab6-461e-e858-e1f1549a2e29"
      },
      "execution_count": 7,
      "outputs": [
        {
          "output_type": "stream",
          "name": "stdout",
          "text": [
            "/ \n",
            "\n",
            "\n",
            "\n",
            "\n",
            "\n",
            "\n",
            "/checkpoint/rp/request-password-reset?session_redirect=https%3A%2F%2Fwww%2Elinkedin%2Ecom%2Ffeed%2F \n",
            "            Forgot password?\n",
            "          \n",
            "/legal/user-agreement User Agreement\n",
            "/legal/privacy-policy Privacy Policy\n",
            "/legal/cookie-policy Cookie Policy\n",
            "/signup/cold-join?session_redirect=https%3A%2F%2Fwww.linkedin.com%2Ffeed%2F Join now\n",
            "/legal/user-agreement User Agreement\n",
            "/legal/privacy-policy Privacy Policy\n",
            "/legal/cookie-policy Cookie Policy\n",
            "/legal/user-agreement?trk=d_checkpoint_lg_consumerLogin_ft_user_agreement \n",
            "                    User Agreement\n",
            "                  \n",
            "/legal/privacy-policy?trk=d_checkpoint_lg_consumerLogin_ft_privacy_policy \n",
            "                  Privacy Policy\n",
            "                \n",
            "/help/linkedin/answer/34593?lang=en&trk=d_checkpoint_lg_consumerLogin_ft_community_guidelines \n",
            "                  Community Guidelines\n",
            "                \n",
            "/legal/cookie-policy?trk=d_checkpoint_lg_consumerLogin_ft_cookie_policy \n",
            "                  Cookie Policy\n",
            "                \n",
            "/legal/copyright-policy?trk=d_checkpoint_lg_consumerLogin_ft_copyright_policy \n",
            "                  Copyright Policy\n",
            "                \n",
            "/help/linkedin?trk=d_checkpoint_lg_consumerLogin_ft_send_feedback&lang=en \n",
            "                  Send Feedback\n",
            "                \n"
          ]
        }
      ]
    }
  ]
}